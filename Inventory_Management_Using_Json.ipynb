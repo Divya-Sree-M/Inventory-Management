{
 "cells": [
  {
   "cell_type": "code",
   "execution_count": 23,
   "id": "8441c939-1ca8-45fa-a19a-5ea8769b588a",
   "metadata": {},
   "outputs": [],
   "source": [
    "record={1001:{'name':\"5 star\",'price':5,'qn':95},\n",
    "        1002:{'name':\"Milky bar\",'price':10,'qn':200},\n",
    "        1003:{'name':\"Kitkat\",'price':30,'qn':200},\n",
    "        1004:{'name':\"Choki choki\",'price':2,'qn':50}}\n",
    "fd=open(\"Records.json\",'w')\n",
    "js=json.dumps(record)\n",
    "fd.write(js)\n",
    "fd.close()"
   ]
  },
  {
   "cell_type": "code",
   "execution_count": 24,
   "id": "b8856664-ce66-4181-bbd2-abb593b363f1",
   "metadata": {},
   "outputs": [
    {
     "name": "stdout",
     "output_type": "stream",
     "text": [
      "---------------------MENU----------------------\n",
      "\n",
      "1001 : 5 star | 5 | 95\n",
      "1002 : Milky bar | 10 | 200\n",
      "1003 : Kitkat | 30 | 200\n",
      "1004 : Choki choki | 2 | 50\n",
      "-----------------------------------------------\n"
     ]
    },
    {
     "name": "stdin",
     "output_type": "stream",
     "text": [
      "Enetr the name Pavitra\n",
      "Enter the mobile number 3252345368\n",
      "Enetr the mail id jsaue@gmail.com\n",
      "Enter id 1003\n",
      "Enter the quantity 170\n"
     ]
    },
    {
     "name": "stdout",
     "output_type": "stream",
     "text": [
      "---------------------BILL----------------------\n",
      "\n",
      "Name          : Kitkat\n",
      "Price         : 30 Rs\n",
      "Quantity      : 170\n",
      "-----------------------------------------------\n",
      "Since the the billing amount is greater than 5000,We have 10% discount\n",
      "Billing amount: 4590.0 Rs\n",
      "-----------------------------------------------\n"
     ]
    }
   ],
   "source": [
    "import json,time\n",
    "fd=open(\"Records.json\",'r')\n",
    "js=fd.read()\n",
    "fd.close()\n",
    "record=json.loads(js)\n",
    "print(\"---------------------MENU----------------------\\n\")\n",
    "for i in record.keys():\n",
    "    print(i,':',record[i]['name'],'|',record[i]['price'],'|',record[i]['qn'])\n",
    "print(\"-----------------------------------------------\")\n",
    "ui_name=input(\"Enetr the name\")\n",
    "ui_ph=input(\"Enter the mobile number\")\n",
    "ui_mail=input(\"Enetr the mail id\")\n",
    "ui_pr=(input(\"Enter id\"))\n",
    "ui_qn=int(input(\"Enter the quantity\"))\n",
    "sale=''\n",
    "if ui_qn<=record[ui_pr]['qn']:\n",
    "    print(\"---------------------BILL----------------------\\n\")\n",
    "    print(\"Name          :\",record[ui_pr]['name'])\n",
    "    print(\"Price         :\",record[ui_pr]['price'],\"Rs\")\n",
    "    print(\"Quantity      :\",ui_qn)\n",
    "    record[ui_pr]['qn']=record[ui_pr]['qn']-ui_qn\n",
    "    print(\"-----------------------------------------------\")\n",
    "    bill=record[ui_pr]['price']*ui_qn\n",
    "    print(bill)\n",
    "    if bill>=10000:\n",
    "        print(\"Since the the billing amount is greater than 10000,We have 15% discount\")\n",
    "        bill=85*bill/100\n",
    "    elif bill>=5000 :\n",
    "        print(\"Since the the billing amount is greater than 5000,We have 10% discount\")\n",
    "        bill=9*bill/10\n",
    "    print(\"Billing amount:\",bill,\"Rs\")\n",
    "    print(\"-----------------------------------------------\")\n",
    "    sale=ui_name+','+ui_mail+','+ui_ph+','+ui_pr+','+record[ui_pr]['name']+','+str(ui_qn)+','+str(bill)+','+time.ctime()+'\\n'\n",
    "else:\n",
    "    print(\"Sorry! we only have \", record[ui_pr]['qn'] ,\" amount of \",record[ui_pr]['name'],\"\\nWould you like to buy it?\")\n",
    "    ch=input(\"Enter y/n\")\n",
    "    if ch=='y' or ch==\"Y\":\n",
    "        print(\"---------------------BILL----------------------\\n\")\n",
    "        print(\"Name          :\",record[ui_pr]['name'])\n",
    "        print(\"Price         :\",record[ui_pr]['price'],\"Rs\")\n",
    "        print(\"Quantity      :\",record[ui_pr]['qn'])\n",
    "        bill=record[ui_pr]['price']*record[ui_pr]['qn']\n",
    "        print(\"-----------------------------------------------\")\n",
    "        print(bill)\n",
    "        if bill>=10000:\n",
    "            print(\"Since the the billing amount is greater than 10000,We have 15% discount\")\n",
    "            bill=85*bill/100\n",
    "        elif bill>=5000 :\n",
    "            print(\"Since the the billing amount is greater than 5000,We have 10% discount\")\n",
    "            bill=(9*bill)/10\n",
    "        print(\"Billing amount:\",bill,\"Rs\")\n",
    "        print(\"-----------------------------------------------\")\n",
    "        sale=ui_name+','+ui_mail+','+ui_ph+','+ui_pr+','+record[ui_pr]['name']+','+str(record[ui_pr]['qn'])+','+str(bill)+','+time.ctime()+'\\n'\n",
    "        record[ui_pr]['qn']=0\n",
    "    else:\n",
    "        print(\"Thank you\")\n",
    "fd=open('sales.txt','a')\n",
    "fd.write(sale)\n",
    "fd.close()\n",
    "js=json.dumps(record)\n",
    "fd=open(\"Records.json\",'w')\n",
    "fd.write(js)\n",
    "fd.close()"
   ]
  },
  {
   "cell_type": "code",
   "execution_count": 14,
   "id": "c4372770-e065-4e1f-89d6-4450159c61a5",
   "metadata": {},
   "outputs": [
    {
     "data": {
      "text/plain": [
       "float"
      ]
     },
     "execution_count": 14,
     "metadata": {},
     "output_type": "execute_result"
    }
   ],
   "source": [
    "bill=5000\n",
    "if bill>=5000:\n",
    "    bill=9*bill/10\n",
    "bill\n",
    "type(bill)"
   ]
  },
  {
   "cell_type": "code",
   "execution_count": null,
   "id": "d3df434a-dab9-4b68-bc96-0e2542176606",
   "metadata": {},
   "outputs": [],
   "source": []
  }
 ],
 "metadata": {
  "kernelspec": {
   "display_name": "Python 3 (ipykernel)",
   "language": "python",
   "name": "python3"
  },
  "language_info": {
   "codemirror_mode": {
    "name": "ipython",
    "version": 3
   },
   "file_extension": ".py",
   "mimetype": "text/x-python",
   "name": "python",
   "nbconvert_exporter": "python",
   "pygments_lexer": "ipython3",
   "version": "3.11.7"
  }
 },
 "nbformat": 4,
 "nbformat_minor": 5
}
